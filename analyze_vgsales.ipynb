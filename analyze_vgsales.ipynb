{
 "cells": [
  {
   "cell_type": "markdown",
   "metadata": {
    "Collapsed": "false"
   },
   "source": [
    "# Analyze VideoGame Sales table using KDB Q+ and embedPy\n",
    "Created by Ricardo Acuna"
   ]
  },
  {
   "cell_type": "markdown",
   "metadata": {
    "Collapsed": "false"
   },
   "source": [
    "### Import csv file into kdb table and cleaning table removing null values\n",
    "Use q sql and parse q sql into functional q sql (k language) to remove null values [See reference](https://code.kx.com/q/basics/funsql/)  "
   ]
  },
  {
   "cell_type": "code",
   "execution_count": 4,
   "metadata": {
    "Collapsed": "false"
   },
   "outputs": [],
   "source": [
    "vgsales:(\"ISSISSFFFFF\";enlist\",\") 0: `:vgsales.csv //Import into kdb table\n",
    "count select  from vgsales //Get all rows\n",
    "count select  from vgsales where not null Rank, not null Name ,  not null Year,  not null Genre,  not null Publisher //q-sql Removing null values\n",
    "count ?[`vgsales;((~:;(^:;`Rank));(~:;(^:;`Name));(~:;(^:;`Year));(~:;(^:;`Genre));(~:;(^:;`Publisher)));0b;()] //?[t;c;b;a] Removing null values\n",
    "vgsales: ?[`vgsales;((~:;(^:;`Rank));(~:;(^:;`Name));(~:;(^:;`Year));(~:;(^:;`Genre));(~:;(^:;`Publisher)));0b;()] //Update tables without null values"
   ]
  },
  {
   "cell_type": "markdown",
   "metadata": {
    "Collapsed": "false"
   },
   "source": [
    "### Get Sales by Region and Weight of each region (Just last 5 years of data)"
   ]
  },
  {
   "cell_type": "code",
   "execution_count": 117,
   "metadata": {
    "Collapsed": "false"
   },
   "outputs": [
    {
     "data": {
      "text/plain": [
       "Year| NA_Sales EU_Sales JP_Sales Other_Sales Global_Sales\n",
       "----| ---------------------------------------------------\n",
       "2020| 0.27     0        0        0.02        0.29        \n",
       "2017| 0        0        0.05     0           0.05        \n",
       "2016| 22.66    26.76    13.7     7.75        70.93       \n",
       "2015| 102.82   97.71    33.72    30.01       264.44      \n",
       "2014| 131.97   125.65   39.46    40.02       337.05      \n"
      ]
     },
     "execution_count": 117,
     "metadata": {},
     "output_type": "execute_result"
    },
    {
     "data": {
      "text/plain": [
       "Year| W_NA_Sales W_EU_Sales W_JP_Sales W_Other_Sales\n",
       "----| ----------------------------------------------\n",
       "2020| 0.9310345  0          0          0.06896552   \n",
       "2017| 0          0          1          0            \n",
       "2016| 0.3194699  0.3772734  0.1931482  0.1092627    \n",
       "2015| 0.3888217  0.3694978  0.1275147  0.1134851    \n",
       "2014| 0.3915443  0.3727934  0.1170746  0.1187361    \n"
      ]
     },
     "execution_count": 117,
     "metadata": {},
     "output_type": "execute_result"
    }
   ],
   "source": [
    "5# `Year xdesc select sum NA_Sales,sum EU_Sales,sum JP_Sales,sum Other_Sales,sum Global_Sales by Year from vgsales //Global Sales \n",
    "5# `Year xdesc select W_NA_Sales:sum NA_Sales % sum Global_Sales,W_EU_Sales:sum EU_Sales % sum Global_Sales,W_JP_Sales:sum JP_Sales % sum Global_Sales,W_Other_Sales:sum Other_Sales % sum Global_Sales by Year from vgsales"
   ]
  },
  {
   "cell_type": "markdown",
   "metadata": {
    "Collapsed": "false"
   },
   "source": [
    "### Set axis to python variables to use embedpy (Matplotlib)\n",
    "\"Set\" is a important function to declare global variables, flat files etc. [See reference](https://code.kx.com/q/ref/get/)  \n",
    "Use embedpy for data visualization using matplot library [See Reference](https://github.com/KxSystems/embedPy)"
   ]
  },
  {
   "cell_type": "code",
   "execution_count": 119,
   "metadata": {
    "Collapsed": "false"
   },
   "outputs": [],
   "source": [
    "vgsales_sum:`Year xdesc select NA: sum NA_Sales,EU: sum EU_Sales,JP: sum JP_Sales,Other: sum Other_Sales,Total: sum Global_Sales by Year from vgsales //Global Sales \n",
    "Year:(exec Year from vgsales_sum) \n",
    "NA:(exec NA from vgsales_sum)\n",
    "EU:(exec EU from vgsales_sum)\n",
    "JP:(exec JP from vgsales_sum)\n",
    "Other:(exec Other from vgsales_sum)\n",
    "\n",
    ".p.set[`Year;Year]\n",
    ".p.set[`NA;NA] \n",
    ".p.set[`EU;EU] \n",
    ".p.set[`JP;JP] \n",
    ".p.set[`Other;Other] //get a list for each axis and set up as python variable"
   ]
  },
  {
   "cell_type": "code",
   "execution_count": 125,
   "metadata": {
    "Collapsed": "false"
   },
   "outputs": [
    {
     "data": {
      "image/png": "[encoded data removed]",
      "text/plain": [
       "<Figure size 504x252 with 1 Axes>"
      ]
     },
     "metadata": {},
     "output_type": "display_data"
    }
   ],
   "source": [
    "\\l p.q\n",
    "p)import matplotlib.pyplot as plt\n",
    "p)x_coordinates = Year\n",
    "p)y1_coordinates = NA\n",
    "p)y2_coordinates = EU\n",
    "p)y3_coordinates = JP\n",
    "p)y4_coordinates = Other\n",
    "p)plt.plot(x_coordinates, y1_coordinates) # plot first line\n",
    "p)plt.plot(x_coordinates, y2_coordinates) # plot second line\n",
    "p)plt.plot(x_coordinates, y3_coordinates) # plot third line\n",
    "p)plt.plot(x_coordinates, y4_coordinates) # plot forth line\n",
    "\n",
    "p)plt.show()"
   ]
  },
  {
   "cell_type": "markdown",
   "metadata": {
    "Collapsed": "false"
   },
   "source": [
    "### Parse Q sql query to create dynamic functions\n",
    "Parse tree represents an expression, not immediately evaluated [See reference.](https://code.kx.com/q/basics/parsetrees/)  \n",
    "Functions in  kdb [See reference](https://code.kx.com/q4m3/6_Functions/)"
   ]
  },
  {
   "cell_type": "code",
   "execution_count": 126,
   "metadata": {
    "Collapsed": "false"
   },
   "outputs": [
    {
     "data": {
      "text/plain": [
       "EU_Sales\n",
       "--------\n",
       "332.63  \n"
      ]
     },
     "execution_count": 126,
     "metadata": {},
     "output_type": "execute_result"
    },
    {
     "data": {
      "text/plain": [
       "EU_Sales\n",
       "--------\n",
       "332.63  \n"
      ]
     },
     "execution_count": 126,
     "metadata": {},
     "output_type": "execute_result"
    }
   ],
   "source": [
    "?[`vgsales;enlist(like;`Platform;\"PS2\");0b;(enlist`EU_Sales)!enlist(sum;`EU_Sales)]\n",
    ".fun.getsales:{[Plat;Reg] ?[`vgsales;enlist(like;`Platform;string Plat);0b;(enlist Reg)!enlist(sum; Reg)]} //Function to get sales by region and device\n",
    ".fun.getsales[`PS2;`EU_Sales] //Get total sales of PS2 in EU"
   ]
  },
  {
   "cell_type": "code",
   "execution_count": 68,
   "metadata": {
    "Collapsed": "false"
   },
   "outputs": [
    {
     "data": {
      "text/plain": [
       "EU_Sales\n",
       "--------\n",
       "332.63  \n"
      ]
     },
     "execution_count": 68,
     "metadata": {},
     "output_type": "execute_result"
    },
    {
     "data": {
      "text/plain": [
       "EU_Sales\n",
       "--------\n",
       "371.34  \n"
      ]
     },
     "execution_count": 68,
     "metadata": {},
     "output_type": "execute_result"
    },
    {
     "data": {
      "text/plain": [
       "JP_Sales\n",
       "--------\n",
       "134.76  \n"
      ]
     },
     "execution_count": 68,
     "metadata": {},
     "output_type": "execute_result"
    }
   ],
   "source": [
    ".fun.getsales:{[Cond;CondVal;Reg] ?[`vgsales;enlist(like;Cond;string CondVal);0b;(enlist Reg)!enlist(sum; Reg)]} //Improving function to select conditions\n",
    ".fun.getsales[`Platform;`PS2;`EU_Sales] // Checking previous output\n",
    ".fun.getsales[`Genre;`Sports;`EU_Sales] // Comparing 2 region sales with same genre\n",
    ".fun.getsales[`Genre;`Sports;`JP_Sales] // A function that you can combine with multiple conditions"
   ]
  }
 ],
 "metadata": {
  "kernelspec": {
   "display_name": "Q (kdb+)",
   "language": "q",
   "name": "qpk"
  },
  "language_info": {
   "file_extension": ".q",
   "mimetype": "text/x-q",
   "name": "q",
   "version": "4.0"
  }
 },
 "nbformat": 4,
 "nbformat_minor": 4
}
